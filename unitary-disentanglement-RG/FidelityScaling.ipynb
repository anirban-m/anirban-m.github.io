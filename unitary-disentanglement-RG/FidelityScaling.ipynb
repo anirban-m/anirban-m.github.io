{
 "cells": [
  {
   "cell_type": "code",
   "execution_count": 33,
   "metadata": {
    "slideshow": {
     "slide_type": "slide"
    }
   },
   "outputs": [],
   "source": [
    "def InnerProd(Psi0,Psi1):\n",
    "    InnerProd=0\n",
    "    Psi0Rec = np.rec.fromarrays([Psi0[:,0],Psi0[:,1].astype(np.float64)], names='keys,vals')\n",
    "    Psi1Rec = np.rec.fromarrays([Psi1[:,0],Psi1[:,1].astype(np.float64)], names='keys,vals')\n",
    "    for i in range(len(Psi0Rec)):\n",
    "        InnerProd=InnerProd+ np.sum(Psi0Rec['vals'][i]*(Psi1Rec['keys']==Psi0Rec['keys'][i])*Psi1Rec['vals'])#np.sum(().astype(np.float64)*((Psi1Rec['keys']==conf)*))\n",
    "    return InnerProd"
   ]
  },
  {
   "cell_type": "code",
   "execution_count": 34,
   "metadata": {
    "slideshow": {
     "slide_type": "subslide"
    }
   },
   "outputs": [
    {
     "name": "stdout",
     "output_type": "stream",
     "text": [
      "0\n",
      "1\n",
      "2\n",
      "3\n",
      "4\n",
      "5\n",
      "6\n"
     ]
    }
   ],
   "source": [
    "import numpy as np\n",
    "RGIt=4\n",
    "N=28\n",
    "fileIndex=['0','1','2','3','4','5','6']#,'4','5','6']\n",
    "Psi0=open(\"/home/nivedita/7thMay/Project-EntanglementRG/DataFiles/ManyBodyWavefunctions/manyBodyWaveFunction28#0.txt\",\"+r\")\n",
    "PsiConf0=Psi0.readlines()\n",
    "innerProd=np.zeros(7)*0.0\n",
    "GeomEnt=np.zeros(7)\n",
    "for k in range(7):\n",
    "    print(k)\n",
    "    Psi1=open(\"/home/nivedita/7thMay/Project-EntanglementRG/DataFiles/ManyBodyWavefunctions/manyBodyWaveFunction28#\"+fileIndex[k]+\".txt\",\"+r\")\n",
    "    PsiConf1=Psi1.readlines()\n",
    "    Psi1.close()\n",
    "    Ket0=np.array([np.array([conf[:N],eval(conf[N:])])for conf in PsiConf0[2:]])\n",
    "    Ket1=np.array([np.array([conf[:N],eval(conf[N:])])for conf in PsiConf1[2:]])\n",
    "    #GeomEnt[k]=1-np.max(Ket1[:,1].astype(float))**2\n",
    "    innerProd[k]=InnerProd(Ket1,Ket0)"
   ]
  },
  {
   "cell_type": "code",
   "execution_count": 35,
   "metadata": {
    "slideshow": {
     "slide_type": "subslide"
    }
   },
   "outputs": [],
   "source": [
    "#import import_ipynb\n",
    "#import CouplingRGFuncs\n",
    "import matplotlib.pyplot as plt"
   ]
  },
  {
   "cell_type": "code",
   "execution_count": 36,
   "metadata": {
    "slideshow": {
     "slide_type": "subslide"
    }
   },
   "outputs": [
    {
     "data": {
      "text/plain": [
       "array([1.0000000e+00, 1.8967416e-01, 3.0117070e-02, 4.4765472e-03,\n",
       "       1.7474491e-04, 1.6732978e-05, 1.6839612e-06])"
      ]
     },
     "execution_count": 36,
     "metadata": {},
     "output_type": "execute_result"
    }
   ],
   "source": [
    "innerProd"
   ]
  },
  {
   "cell_type": "code",
   "execution_count": 42,
   "metadata": {
    "slideshow": {
     "slide_type": "subslide"
    }
   },
   "outputs": [
    {
     "data": {
      "text/plain": [
       "[<matplotlib.lines.Line2D at 0x7ff2e01540b8>]"
      ]
     },
     "execution_count": 42,
     "metadata": {},
     "output_type": "execute_result"
    },
    {
     "data": {
      "image/png": "[encoded data removed]",
      "text/plain": [
       "<Figure size 864x504 with 1 Axes>"
      ]
     },
     "metadata": {
      "needs_background": "light"
     },
     "output_type": "display_data"
    }
   ],
   "source": [
    "plt.rcParams['figure.figsize'] = [12,7]\n",
    "plt.ylabel(r\"$\\langle\\Psi_{(j)}|W|\\Psi_{(j)}\\rangle$\",fontsize=20)\n",
    "plt.rcParams['text.usetex'] = True\n",
    "plt.xlabel(r'\\Huge{$\\longleftarrow$}~~Steps',fontsize=20)\n",
    "plt.xticks(fontsize=15)\n",
    "plt.yticks(fontsize=15)\n",
    "plt.plot(innerProd*innerProd,linestyle='--',marker='o')"
   ]
  },
  {
   "cell_type": "code",
   "execution_count": 38,
   "metadata": {
    "slideshow": {
     "slide_type": "subslide"
    }
   },
   "outputs": [
    {
     "data": {
      "text/plain": [
       "array([1.0000000e+00, 1.8967416e-01, 3.0117070e-02, 4.4765472e-03,\n",
       "       1.7474491e-04, 1.6732978e-05, 1.6839612e-06])"
      ]
     },
     "execution_count": 38,
     "metadata": {},
     "output_type": "execute_result"
    }
   ],
   "source": [
    "innerProd"
   ]
  },
  {
   "cell_type": "markdown",
   "metadata": {
    "slideshow": {
     "slide_type": "subslide"
    }
   },
   "source": [
    "$\\sum_{i=0}^{3}\\lambda_{i}|\\phi_{i}\\rangle|\\psi_{i}\\rangle$"
   ]
  }
 ],
 "metadata": {
  "celltoolbar": "Slideshow",
  "kernelspec": {
   "display_name": "Python 3",
   "language": "python",
   "name": "python3"
  },
  "language_info": {
   "codemirror_mode": {
    "name": "ipython",
    "version": 3
   },
   "file_extension": ".py",
   "mimetype": "text/x-python",
   "name": "python",
   "nbconvert_exporter": "python",
   "pygments_lexer": "ipython3",
   "version": "3.7.1"
  }
 },
 "nbformat": 4,
 "nbformat_minor": 2
}
